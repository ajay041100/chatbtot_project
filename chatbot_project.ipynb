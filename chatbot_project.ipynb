{
  "nbformat": 4,
  "nbformat_minor": 0,
  "metadata": {
    "colab": {
      "provenance": [],
      "toc_visible": true,
      "authorship_tag": "ABX9TyPKc0AFl7FuiDktNeFsjrXO",
      "include_colab_link": true
    },
    "kernelspec": {
      "name": "python3",
      "display_name": "Python 3"
    },
    "language_info": {
      "name": "python"
    }
  },
  "cells": [
    {
      "cell_type": "markdown",
      "metadata": {
        "id": "view-in-github",
        "colab_type": "text"
      },
      "source": [
        "<a href=\"https://colab.research.google.com/github/ajay041100/chatbtot_project/blob/main/chatbot_project.ipynb\" target=\"_parent\"><img src=\"https://colab.research.google.com/assets/colab-badge.svg\" alt=\"Open In Colab\"/></a>"
      ]
    },
    {
      "cell_type": "code",
      "source": [
        "import numpy as np\n",
        "import nltk\n",
        "import string\n",
        "from sklearn.feature_extraction.text import TfidfVectorizer\n",
        "from sklearn.metrics.pairwise import cosine_similarity\n",
        "\n",
        "# Download necessary NLTK data\n",
        "nltk.download('punkt')\n",
        "\n",
        "# Define chatbot knowledge base (questions & answers)\n",
        "qa_pairs = {\n",
        "    # Greetings\n",
        "    \"hello\": \"Hello! How can I assist you today?\",\n",
        "    \"hi\": \"Hi there! What can I help you with?\",\n",
        "    \"how are you\": \"I'm just a chatbot, but I'm here to assist you!\",\n",
        "    \"good morning\": \"Good morning! How's your day going?\",\n",
        "    \"good night\": \"Good night! Take care!\",\n",
        "    \"bye\": \"Goodbye! Have a great day! 😊\",\n",
        "    \"thank you\": \"You're welcome! I'm always here to help. 😊\",\n",
        "\n",
        "    # Artificial Intelligence\n",
        "    \"what is ai\": \"Artificial Intelligence (AI) is the simulation of human intelligence in machines.\",\n",
        "    \"what is machine learning\": \"Machine Learning is a subset of AI that enables systems to learn from data and improve over time.\",\n",
        "    \"what is deep learning\": \"Deep Learning is a type of machine learning that uses neural networks with multiple layers to analyze data.\",\n",
        "    \"what is reinforcement learning\": \"Reinforcement Learning is a type of AI where agents learn by interacting with the environment to maximize rewards.\",\n",
        "    \"what are neural networks\": \"Neural Networks are computing systems inspired by the human brain, used for pattern recognition and AI applications.\",\n",
        "\n",
        "    # Programming & Python\n",
        "    \"what is python\": \"Python is a high-level, interpreted programming language known for its simplicity and versatility.\",\n",
        "    \"who created python\": \"Python was created by Guido van Rossum and released in 1991.\",\n",
        "    \"what is programming\": \"Programming is the process of writing code to instruct a computer to perform specific tasks.\",\n",
        "    \"what is a variable\": \"A variable is a container for storing data values in programming.\",\n",
        "    \"what is a function\": \"A function is a reusable block of code that performs a specific task.\",\n",
        "    \"what is an algorithm\": \"An algorithm is a step-by-step set of instructions for solving a problem.\",\n",
        "    \"what is a loop\": \"A loop allows a block of code to be executed repeatedly based on a condition.\",\n",
        "    \"what is recursion\": \"Recursion is a programming technique where a function calls itself to solve a problem.\",\n",
        "\n",
        "    # Computer Science Concepts\n",
        "    \"what is data structure\": \"A data structure is a way of organizing and storing data efficiently.\",\n",
        "    \"what is an array\": \"An array is a collection of elements stored at contiguous memory locations.\",\n",
        "    \"what is a linked list\": \"A linked list is a linear data structure where each element points to the next.\",\n",
        "    \"what is a stack\": \"A stack is a LIFO (Last In, First Out) data structure used for managing data.\",\n",
        "    \"what is a queue\": \"A queue is a FIFO (First In, First Out) data structure used for handling tasks sequentially.\",\n",
        "    \"what is a binary tree\": \"A binary tree is a tree data structure where each node has at most two children.\",\n",
        "\n",
        "    # Mathematics & Logical Reasoning\n",
        "    \"what is pi\": \"Pi (π) is a mathematical constant approximately equal to 3.14159, representing the ratio of a circle's circumference to its diameter.\",\n",
        "    \"what is the pythagorean theorem\": \"The Pythagorean theorem states that in a right triangle, the square of the hypotenuse is equal to the sum of the squares of the other two sides.\",\n",
        "    \"what is probability\": \"Probability is a branch of mathematics that deals with the likelihood of an event occurring.\",\n",
        "\n",
        "    # Fun & Random Facts\n",
        "    \"tell me a joke\": \"Why do programmers prefer dark mode? Because the light attracts bugs! 😂\",\n",
        "    \"tell me a fun fact\": \"Did you know? The first computer bug was an actual moth found inside a Harvard Mark II computer in 1947!\",\n",
        "    \"who is the father of computer science\": \"Alan Turing is considered the father of computer science for his work on computation and AI.\",\n",
        "    \"what is the speed of light\": \"The speed of light is approximately 299,792,458 meters per second.\",\n",
        "    \"who discovered gravity\": \"Sir Isaac Newton formulated the laws of gravity in the 17th century.\"\n",
        "}\n",
        "\n",
        "# Prepare corpus and responses\n",
        "corpus = list(qa_pairs.keys())  # List of predefined questions\n",
        "responses = list(qa_pairs.values())  # Corresponding responses\n",
        "\n",
        "# Preprocessing function\n",
        "def preprocess_text(text):\n",
        "    text = text.lower().translate(str.maketrans('', '', string.punctuation))  # Lowercase & remove punctuation\n",
        "    return text\n",
        "\n",
        "# Apply preprocessing to corpus\n",
        "preprocessed_corpus = [preprocess_text(q) for q in corpus]\n",
        "\n",
        "# Vectorize corpus\n",
        "vectorizer = TfidfVectorizer()\n",
        "tfidf_matrix = vectorizer.fit_transform(preprocessed_corpus)\n",
        "\n",
        "# Chatbot response function\n",
        "def chatbot_response(user_input):\n",
        "    user_input = preprocess_text(user_input)  # Preprocess user input\n",
        "    user_tfidf = vectorizer.transform([user_input])  # Convert to vector\n",
        "\n",
        "    # Compute cosine similarity\n",
        "    cosine_similarities = cosine_similarity(user_tfidf, tfidf_matrix)\n",
        "    similarity_score = cosine_similarities.flatten()\n",
        "\n",
        "    # Find the most relevant question\n",
        "    response_index = similarity_score.argmax()\n",
        "\n",
        "    # Check if the similarity is above a threshold\n",
        "    if similarity_score[response_index] > 0.3:  # Adjusted threshold for better accuracy\n",
        "        return responses[response_index]\n",
        "    else:\n",
        "        return \"I'm sorry, I don't understand. Can you rephrase your question?\"\n",
        "\n",
        "# Start chatbot\n",
        "print(\"Chatbot: Hello! Ask me anything about AI, Python, or general topics. Type 'exit' to end the chat.\")\n",
        "\n",
        "while True:\n",
        "    user_input = input(\"You: \")\n",
        "    if user_input.lower() == 'exit':\n",
        "        print(\"Chatbot: Goodbye! Have a great day! 😊\")\n",
        "        break\n",
        "    print(\"Chatbot:\", chatbot_response(user_input))\n"
      ],
      "metadata": {
        "colab": {
          "base_uri": "https://localhost:8080/"
        },
        "id": "XhOfVtHKOTj2",
        "outputId": "75a8cce3-5be0-4235-9f14-fad22adbe682"
      },
      "execution_count": 20,
      "outputs": [
        {
          "output_type": "stream",
          "name": "stderr",
          "text": [
            "[nltk_data] Downloading package punkt to /root/nltk_data...\n",
            "[nltk_data]   Package punkt is already up-to-date!\n"
          ]
        },
        {
          "output_type": "stream",
          "name": "stdout",
          "text": [
            "Chatbot: Hello! Ask me anything about AI, Python, or general topics. Type 'exit' to end the chat.\n",
            "You: how's the day?\n",
            "Chatbot: The Pythagorean theorem states that in a right triangle, the square of the hypotenuse is equal to the sum of the squares of the other two sides.\n",
            "You: how are you?\n",
            "Chatbot: I'm just a chatbot, but I'm here to assist you!\n",
            "You: 2+2\n",
            "Chatbot: I'm sorry, I don't understand. Can you rephrase your question?\n",
            "You: what is the sum of 2+2 ?\n",
            "Chatbot: The speed of light is approximately 299,792,458 meters per second.\n",
            "You: speed of sound?\n",
            "Chatbot: The speed of light is approximately 299,792,458 meters per second.\n",
            "You: what is array?\n",
            "Chatbot: An array is a collection of elements stored at contiguous memory locations.\n",
            "You: exit\n",
            "Chatbot: Goodbye! Have a great day! 😊\n"
          ]
        }
      ]
    }
  ]
}